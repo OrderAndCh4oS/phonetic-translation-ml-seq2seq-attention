{
  "nbformat": 4,
  "nbformat_minor": 0,
  "metadata": {
    "colab": {
      "provenance": [],
      "toc_visible": true
    },
    "kernelspec": {
      "name": "python3",
      "display_name": "Python 3"
    },
    "language_info": {
      "name": "python"
    },
    "accelerator": "GPU",
    "gpuClass": "premium"
  },
  "cells": [
    {
      "cell_type": "code",
      "source": [
        "!pip install tensorflow\n",
        "!pip install tensorflow_text"
      ],
      "metadata": {
        "id": "JxXVND6az2d4",
        "colab": {
          "base_uri": "https://localhost:8080/"
        },
        "outputId": "18b4f1db-ff68-437a-edd6-d33f212c2243"
      },
      "execution_count": null,
      "outputs": [
        {
          "output_type": "stream",
          "name": "stdout",
          "text": [
            "Looking in indexes: https://pypi.org/simple, https://us-python.pkg.dev/colab-wheels/public/simple/\n",
            "Requirement already satisfied: tensorflow in /usr/local/lib/python3.10/dist-packages (2.12.0)\n",
            "Requirement already satisfied: gast<=0.4.0,>=0.2.1 in /usr/local/lib/python3.10/dist-packages (from tensorflow) (0.4.0)\n",
            "Requirement already satisfied: keras<2.13,>=2.12.0 in /usr/local/lib/python3.10/dist-packages (from tensorflow) (2.12.0)\n",
            "Requirement already satisfied: tensorboard<2.13,>=2.12 in /usr/local/lib/python3.10/dist-packages (from tensorflow) (2.12.2)\n",
            "Requirement already satisfied: tensorflow-estimator<2.13,>=2.12.0 in /usr/local/lib/python3.10/dist-packages (from tensorflow) (2.12.0)\n",
            "Requirement already satisfied: tensorflow-io-gcs-filesystem>=0.23.1 in /usr/local/lib/python3.10/dist-packages (from tensorflow) (0.32.0)\n",
            "Requirement already satisfied: termcolor>=1.1.0 in /usr/local/lib/python3.10/dist-packages (from tensorflow) (2.3.0)\n",
            "Requirement already satisfied: numpy<1.24,>=1.22 in /usr/local/lib/python3.10/dist-packages (from tensorflow) (1.22.4)\n",
            "Requirement already satisfied: astunparse>=1.6.0 in /usr/local/lib/python3.10/dist-packages (from tensorflow) (1.6.3)\n",
            "Requirement already satisfied: six>=1.12.0 in /usr/local/lib/python3.10/dist-packages (from tensorflow) (1.16.0)\n",
            "Requirement already satisfied: typing-extensions>=3.6.6 in /usr/local/lib/python3.10/dist-packages (from tensorflow) (4.5.0)\n",
            "Requirement already satisfied: google-pasta>=0.1.1 in /usr/local/lib/python3.10/dist-packages (from tensorflow) (0.2.0)\n",
            "Requirement already satisfied: jax>=0.3.15 in /usr/local/lib/python3.10/dist-packages (from tensorflow) (0.4.8)\n",
            "Requirement already satisfied: setuptools in /usr/local/lib/python3.10/dist-packages (from tensorflow) (67.7.2)\n",
            "Requirement already satisfied: protobuf!=4.21.0,!=4.21.1,!=4.21.2,!=4.21.3,!=4.21.4,!=4.21.5,<5.0.0dev,>=3.20.3 in /usr/local/lib/python3.10/dist-packages (from tensorflow) (3.20.3)\n",
            "Requirement already satisfied: grpcio<2.0,>=1.24.3 in /usr/local/lib/python3.10/dist-packages (from tensorflow) (1.54.0)\n",
            "Requirement already satisfied: h5py>=2.9.0 in /usr/local/lib/python3.10/dist-packages (from tensorflow) (3.8.0)\n",
            "Requirement already satisfied: libclang>=13.0.0 in /usr/local/lib/python3.10/dist-packages (from tensorflow) (16.0.0)\n",
            "Requirement already satisfied: wrapt<1.15,>=1.11.0 in /usr/local/lib/python3.10/dist-packages (from tensorflow) (1.14.1)\n",
            "Requirement already satisfied: opt-einsum>=2.3.2 in /usr/local/lib/python3.10/dist-packages (from tensorflow) (3.3.0)\n",
            "Requirement already satisfied: packaging in /usr/local/lib/python3.10/dist-packages (from tensorflow) (23.1)\n",
            "Requirement already satisfied: absl-py>=1.0.0 in /usr/local/lib/python3.10/dist-packages (from tensorflow) (1.4.0)\n",
            "Requirement already satisfied: flatbuffers>=2.0 in /usr/local/lib/python3.10/dist-packages (from tensorflow) (23.3.3)\n",
            "Requirement already satisfied: wheel<1.0,>=0.23.0 in /usr/local/lib/python3.10/dist-packages (from astunparse>=1.6.0->tensorflow) (0.40.0)\n",
            "Requirement already satisfied: scipy>=1.7 in /usr/local/lib/python3.10/dist-packages (from jax>=0.3.15->tensorflow) (1.10.1)\n",
            "Requirement already satisfied: ml-dtypes>=0.0.3 in /usr/local/lib/python3.10/dist-packages (from jax>=0.3.15->tensorflow) (0.1.0)\n",
            "Requirement already satisfied: tensorboard-data-server<0.8.0,>=0.7.0 in /usr/local/lib/python3.10/dist-packages (from tensorboard<2.13,>=2.12->tensorflow) (0.7.0)\n",
            "Requirement already satisfied: werkzeug>=1.0.1 in /usr/local/lib/python3.10/dist-packages (from tensorboard<2.13,>=2.12->tensorflow) (2.3.0)\n",
            "Requirement already satisfied: requests<3,>=2.21.0 in /usr/local/lib/python3.10/dist-packages (from tensorboard<2.13,>=2.12->tensorflow) (2.27.1)\n",
            "Requirement already satisfied: tensorboard-plugin-wit>=1.6.0 in /usr/local/lib/python3.10/dist-packages (from tensorboard<2.13,>=2.12->tensorflow) (1.8.1)\n",
            "Requirement already satisfied: google-auth-oauthlib<1.1,>=0.5 in /usr/local/lib/python3.10/dist-packages (from tensorboard<2.13,>=2.12->tensorflow) (1.0.0)\n",
            "Requirement already satisfied: google-auth<3,>=1.6.3 in /usr/local/lib/python3.10/dist-packages (from tensorboard<2.13,>=2.12->tensorflow) (2.17.3)\n",
            "Requirement already satisfied: markdown>=2.6.8 in /usr/local/lib/python3.10/dist-packages (from tensorboard<2.13,>=2.12->tensorflow) (3.4.3)\n",
            "Requirement already satisfied: pyasn1-modules>=0.2.1 in /usr/local/lib/python3.10/dist-packages (from google-auth<3,>=1.6.3->tensorboard<2.13,>=2.12->tensorflow) (0.3.0)\n",
            "Requirement already satisfied: rsa<5,>=3.1.4 in /usr/local/lib/python3.10/dist-packages (from google-auth<3,>=1.6.3->tensorboard<2.13,>=2.12->tensorflow) (4.9)\n",
            "Requirement already satisfied: cachetools<6.0,>=2.0.0 in /usr/local/lib/python3.10/dist-packages (from google-auth<3,>=1.6.3->tensorboard<2.13,>=2.12->tensorflow) (5.3.0)\n",
            "Requirement already satisfied: requests-oauthlib>=0.7.0 in /usr/local/lib/python3.10/dist-packages (from google-auth-oauthlib<1.1,>=0.5->tensorboard<2.13,>=2.12->tensorflow) (1.3.1)\n",
            "Requirement already satisfied: certifi>=2017.4.17 in /usr/local/lib/python3.10/dist-packages (from requests<3,>=2.21.0->tensorboard<2.13,>=2.12->tensorflow) (2022.12.7)\n",
            "Requirement already satisfied: charset-normalizer~=2.0.0 in /usr/local/lib/python3.10/dist-packages (from requests<3,>=2.21.0->tensorboard<2.13,>=2.12->tensorflow) (2.0.12)\n",
            "Requirement already satisfied: urllib3<1.27,>=1.21.1 in /usr/local/lib/python3.10/dist-packages (from requests<3,>=2.21.0->tensorboard<2.13,>=2.12->tensorflow) (1.26.15)\n",
            "Requirement already satisfied: idna<4,>=2.5 in /usr/local/lib/python3.10/dist-packages (from requests<3,>=2.21.0->tensorboard<2.13,>=2.12->tensorflow) (3.4)\n",
            "Requirement already satisfied: MarkupSafe>=2.1.1 in /usr/local/lib/python3.10/dist-packages (from werkzeug>=1.0.1->tensorboard<2.13,>=2.12->tensorflow) (2.1.2)\n",
            "Requirement already satisfied: pyasn1<0.6.0,>=0.4.6 in /usr/local/lib/python3.10/dist-packages (from pyasn1-modules>=0.2.1->google-auth<3,>=1.6.3->tensorboard<2.13,>=2.12->tensorflow) (0.5.0)\n",
            "Requirement already satisfied: oauthlib>=3.0.0 in /usr/local/lib/python3.10/dist-packages (from requests-oauthlib>=0.7.0->google-auth-oauthlib<1.1,>=0.5->tensorboard<2.13,>=2.12->tensorflow) (3.2.2)\n",
            "Looking in indexes: https://pypi.org/simple, https://us-python.pkg.dev/colab-wheels/public/simple/\n",
            "Requirement already satisfied: tensorflow_text in /usr/local/lib/python3.10/dist-packages (2.12.1)\n",
            "Requirement already satisfied: tensorflow-hub>=0.8.0 in /usr/local/lib/python3.10/dist-packages (from tensorflow_text) (0.13.0)\n",
            "Requirement already satisfied: tensorflow<2.13,>=2.12.0 in /usr/local/lib/python3.10/dist-packages (from tensorflow_text) (2.12.0)\n",
            "Requirement already satisfied: termcolor>=1.1.0 in /usr/local/lib/python3.10/dist-packages (from tensorflow<2.13,>=2.12.0->tensorflow_text) (2.3.0)\n",
            "Requirement already satisfied: grpcio<2.0,>=1.24.3 in /usr/local/lib/python3.10/dist-packages (from tensorflow<2.13,>=2.12.0->tensorflow_text) (1.54.0)\n",
            "Requirement already satisfied: gast<=0.4.0,>=0.2.1 in /usr/local/lib/python3.10/dist-packages (from tensorflow<2.13,>=2.12.0->tensorflow_text) (0.4.0)\n",
            "Requirement already satisfied: astunparse>=1.6.0 in /usr/local/lib/python3.10/dist-packages (from tensorflow<2.13,>=2.12.0->tensorflow_text) (1.6.3)\n",
            "Requirement already satisfied: tensorflow-estimator<2.13,>=2.12.0 in /usr/local/lib/python3.10/dist-packages (from tensorflow<2.13,>=2.12.0->tensorflow_text) (2.12.0)\n",
            "Requirement already satisfied: google-pasta>=0.1.1 in /usr/local/lib/python3.10/dist-packages (from tensorflow<2.13,>=2.12.0->tensorflow_text) (0.2.0)\n",
            "Requirement already satisfied: h5py>=2.9.0 in /usr/local/lib/python3.10/dist-packages (from tensorflow<2.13,>=2.12.0->tensorflow_text) (3.8.0)\n",
            "Requirement already satisfied: keras<2.13,>=2.12.0 in /usr/local/lib/python3.10/dist-packages (from tensorflow<2.13,>=2.12.0->tensorflow_text) (2.12.0)\n",
            "Requirement already satisfied: flatbuffers>=2.0 in /usr/local/lib/python3.10/dist-packages (from tensorflow<2.13,>=2.12.0->tensorflow_text) (23.3.3)\n",
            "Requirement already satisfied: packaging in /usr/local/lib/python3.10/dist-packages (from tensorflow<2.13,>=2.12.0->tensorflow_text) (23.1)\n",
            "Requirement already satisfied: wrapt<1.15,>=1.11.0 in /usr/local/lib/python3.10/dist-packages (from tensorflow<2.13,>=2.12.0->tensorflow_text) (1.14.1)\n",
            "Requirement already satisfied: six>=1.12.0 in /usr/local/lib/python3.10/dist-packages (from tensorflow<2.13,>=2.12.0->tensorflow_text) (1.16.0)\n",
            "Requirement already satisfied: tensorflow-io-gcs-filesystem>=0.23.1 in /usr/local/lib/python3.10/dist-packages (from tensorflow<2.13,>=2.12.0->tensorflow_text) (0.32.0)\n",
            "Requirement already satisfied: absl-py>=1.0.0 in /usr/local/lib/python3.10/dist-packages (from tensorflow<2.13,>=2.12.0->tensorflow_text) (1.4.0)\n",
            "Requirement already satisfied: typing-extensions>=3.6.6 in /usr/local/lib/python3.10/dist-packages (from tensorflow<2.13,>=2.12.0->tensorflow_text) (4.5.0)\n",
            "Requirement already satisfied: opt-einsum>=2.3.2 in /usr/local/lib/python3.10/dist-packages (from tensorflow<2.13,>=2.12.0->tensorflow_text) (3.3.0)\n",
            "Requirement already satisfied: tensorboard<2.13,>=2.12 in /usr/local/lib/python3.10/dist-packages (from tensorflow<2.13,>=2.12.0->tensorflow_text) (2.12.2)\n",
            "Requirement already satisfied: numpy<1.24,>=1.22 in /usr/local/lib/python3.10/dist-packages (from tensorflow<2.13,>=2.12.0->tensorflow_text) (1.22.4)\n",
            "Requirement already satisfied: libclang>=13.0.0 in /usr/local/lib/python3.10/dist-packages (from tensorflow<2.13,>=2.12.0->tensorflow_text) (16.0.0)\n",
            "Requirement already satisfied: jax>=0.3.15 in /usr/local/lib/python3.10/dist-packages (from tensorflow<2.13,>=2.12.0->tensorflow_text) (0.4.8)\n",
            "Requirement already satisfied: setuptools in /usr/local/lib/python3.10/dist-packages (from tensorflow<2.13,>=2.12.0->tensorflow_text) (67.7.2)\n",
            "Requirement already satisfied: protobuf!=4.21.0,!=4.21.1,!=4.21.2,!=4.21.3,!=4.21.4,!=4.21.5,<5.0.0dev,>=3.20.3 in /usr/local/lib/python3.10/dist-packages (from tensorflow<2.13,>=2.12.0->tensorflow_text) (3.20.3)\n",
            "Requirement already satisfied: wheel<1.0,>=0.23.0 in /usr/local/lib/python3.10/dist-packages (from astunparse>=1.6.0->tensorflow<2.13,>=2.12.0->tensorflow_text) (0.40.0)\n",
            "Requirement already satisfied: scipy>=1.7 in /usr/local/lib/python3.10/dist-packages (from jax>=0.3.15->tensorflow<2.13,>=2.12.0->tensorflow_text) (1.10.1)\n",
            "Requirement already satisfied: ml-dtypes>=0.0.3 in /usr/local/lib/python3.10/dist-packages (from jax>=0.3.15->tensorflow<2.13,>=2.12.0->tensorflow_text) (0.1.0)\n",
            "Requirement already satisfied: google-auth<3,>=1.6.3 in /usr/local/lib/python3.10/dist-packages (from tensorboard<2.13,>=2.12->tensorflow<2.13,>=2.12.0->tensorflow_text) (2.17.3)\n",
            "Requirement already satisfied: werkzeug>=1.0.1 in /usr/local/lib/python3.10/dist-packages (from tensorboard<2.13,>=2.12->tensorflow<2.13,>=2.12.0->tensorflow_text) (2.3.0)\n",
            "Requirement already satisfied: tensorboard-data-server<0.8.0,>=0.7.0 in /usr/local/lib/python3.10/dist-packages (from tensorboard<2.13,>=2.12->tensorflow<2.13,>=2.12.0->tensorflow_text) (0.7.0)\n",
            "Requirement already satisfied: markdown>=2.6.8 in /usr/local/lib/python3.10/dist-packages (from tensorboard<2.13,>=2.12->tensorflow<2.13,>=2.12.0->tensorflow_text) (3.4.3)\n",
            "Requirement already satisfied: google-auth-oauthlib<1.1,>=0.5 in /usr/local/lib/python3.10/dist-packages (from tensorboard<2.13,>=2.12->tensorflow<2.13,>=2.12.0->tensorflow_text) (1.0.0)\n",
            "Requirement already satisfied: tensorboard-plugin-wit>=1.6.0 in /usr/local/lib/python3.10/dist-packages (from tensorboard<2.13,>=2.12->tensorflow<2.13,>=2.12.0->tensorflow_text) (1.8.1)\n",
            "Requirement already satisfied: requests<3,>=2.21.0 in /usr/local/lib/python3.10/dist-packages (from tensorboard<2.13,>=2.12->tensorflow<2.13,>=2.12.0->tensorflow_text) (2.27.1)\n",
            "Requirement already satisfied: cachetools<6.0,>=2.0.0 in /usr/local/lib/python3.10/dist-packages (from google-auth<3,>=1.6.3->tensorboard<2.13,>=2.12->tensorflow<2.13,>=2.12.0->tensorflow_text) (5.3.0)\n",
            "Requirement already satisfied: rsa<5,>=3.1.4 in /usr/local/lib/python3.10/dist-packages (from google-auth<3,>=1.6.3->tensorboard<2.13,>=2.12->tensorflow<2.13,>=2.12.0->tensorflow_text) (4.9)\n",
            "Requirement already satisfied: pyasn1-modules>=0.2.1 in /usr/local/lib/python3.10/dist-packages (from google-auth<3,>=1.6.3->tensorboard<2.13,>=2.12->tensorflow<2.13,>=2.12.0->tensorflow_text) (0.3.0)\n",
            "Requirement already satisfied: requests-oauthlib>=0.7.0 in /usr/local/lib/python3.10/dist-packages (from google-auth-oauthlib<1.1,>=0.5->tensorboard<2.13,>=2.12->tensorflow<2.13,>=2.12.0->tensorflow_text) (1.3.1)\n",
            "Requirement already satisfied: idna<4,>=2.5 in /usr/local/lib/python3.10/dist-packages (from requests<3,>=2.21.0->tensorboard<2.13,>=2.12->tensorflow<2.13,>=2.12.0->tensorflow_text) (3.4)\n",
            "Requirement already satisfied: certifi>=2017.4.17 in /usr/local/lib/python3.10/dist-packages (from requests<3,>=2.21.0->tensorboard<2.13,>=2.12->tensorflow<2.13,>=2.12.0->tensorflow_text) (2022.12.7)\n",
            "Requirement already satisfied: urllib3<1.27,>=1.21.1 in /usr/local/lib/python3.10/dist-packages (from requests<3,>=2.21.0->tensorboard<2.13,>=2.12->tensorflow<2.13,>=2.12.0->tensorflow_text) (1.26.15)\n",
            "Requirement already satisfied: charset-normalizer~=2.0.0 in /usr/local/lib/python3.10/dist-packages (from requests<3,>=2.21.0->tensorboard<2.13,>=2.12->tensorflow<2.13,>=2.12.0->tensorflow_text) (2.0.12)\n",
            "Requirement already satisfied: MarkupSafe>=2.1.1 in /usr/local/lib/python3.10/dist-packages (from werkzeug>=1.0.1->tensorboard<2.13,>=2.12->tensorflow<2.13,>=2.12.0->tensorflow_text) (2.1.2)\n",
            "Requirement already satisfied: pyasn1<0.6.0,>=0.4.6 in /usr/local/lib/python3.10/dist-packages (from pyasn1-modules>=0.2.1->google-auth<3,>=1.6.3->tensorboard<2.13,>=2.12->tensorflow<2.13,>=2.12.0->tensorflow_text) (0.5.0)\n",
            "Requirement already satisfied: oauthlib>=3.0.0 in /usr/local/lib/python3.10/dist-packages (from requests-oauthlib>=0.7.0->google-auth-oauthlib<1.1,>=0.5->tensorboard<2.13,>=2.12->tensorflow<2.13,>=2.12.0->tensorflow_text) (3.2.2)\n"
          ]
        }
      ]
    },
    {
      "cell_type": "code",
      "source": [
        "import numpy as np\n",
        "import pandas as pd\n",
        "\n",
        "import typing\n",
        "from typing import Any, Tuple\n",
        "\n",
        "import tensorflow as tf\n",
        "\n",
        "import tensorflow_text as tf_text\n",
        "\n",
        "import matplotlib.pyplot as plt\n",
        "import matplotlib.ticker as ticker\n",
        "import pathlib\n",
        "\n",
        "from google.colab import drive"
      ],
      "metadata": {
        "id": "sm_AtFIiz7E8"
      },
      "execution_count": null,
      "outputs": []
    },
    {
      "cell_type": "code",
      "source": [
        "drive.mount('/content/drive')"
      ],
      "metadata": {
        "id": "uJhPR5KRz8eT",
        "colab": {
          "base_uri": "https://localhost:8080/"
        },
        "outputId": "ab1f8855-8f87-41ad-b3a5-24e14f11582d"
      },
      "execution_count": null,
      "outputs": [
        {
          "output_type": "stream",
          "name": "stdout",
          "text": [
            "Drive already mounted at /content/drive; to attempt to forcibly remount, call drive.mount(\"/content/drive\", force_remount=True).\n"
          ]
        }
      ]
    },
    {
      "cell_type": "code",
      "source": [
        "np.set_printoptions(precision=3, suppress=True)"
      ],
      "metadata": {
        "id": "IRGNTJMaz-xw"
      },
      "execution_count": null,
      "outputs": []
    },
    {
      "cell_type": "code",
      "source": [
        "class ShapeChecker:\n",
        "    def __init__(self):\n",
        "        # Keep a cache of every axis-name seen\n",
        "        self.shapes = {}\n",
        "\n",
        "    def __call__(self, tensor, names, broadcast=False):\n",
        "        if not tf.executing_eagerly():\n",
        "            return\n",
        "\n",
        "        if isinstance(names, str):\n",
        "            names = (names,)\n",
        "\n",
        "        shape = tf.shape(input=tensor)\n",
        "        rank = tf.rank(tensor)\n",
        "\n",
        "        if rank != len(names):\n",
        "            raise ValueError(\n",
        "                f'Rank mismatch:\\n'\n",
        "                f'    found {rank}: {shape.numpy()}\\n'\n",
        "                f'    expected {len(names)}: {names}\\n'\n",
        "            )\n",
        "\n",
        "        for i, name in enumerate(names):\n",
        "            if isinstance(name, int):\n",
        "                old_dim = name\n",
        "            else:\n",
        "                old_dim = self.shapes.get(name, None)\n",
        "            new_dim = shape[i]\n",
        "\n",
        "            if broadcast and new_dim == 1:\n",
        "                continue\n",
        "\n",
        "            if old_dim is None:\n",
        "                # If the axis name is new, add its length to the cache.\n",
        "                self.shapes[name] = new_dim\n",
        "                continue\n",
        "\n",
        "            if new_dim != old_dim:\n",
        "                raise ValueError(\n",
        "                    f\"Shape mismatch for dimension: '{name}'\\n\"\n",
        "                    f\"    found: {new_dim}\\n\"\n",
        "                    f\"    expected: {old_dim}\\n\"\n",
        "                )\n"
      ],
      "metadata": {
        "id": "SQhpz6Bb1Lpo"
      },
      "execution_count": null,
      "outputs": []
    },
    {
      "cell_type": "code",
      "source": [
        "import re\n",
        "\n",
        "regex = r\"(,.*)\"\n",
        "\n",
        "\n",
        "def load_data(path):\n",
        "    data = pd.read_csv(path, delimiter='\\t').replace(np.nan, '')\n",
        "\n",
        "    pairs = np.array(data)\n",
        "    for x in pairs:\n",
        "        if not isinstance(x[0], str):\n",
        "            print(x[0])\n",
        "\n",
        "    inp = [' '.join(x[0]) for x in pairs]\n",
        "    targ = [' '.join(x[1]) for x in pairs]\n",
        "\n",
        "    return targ, inp\n",
        "\n",
        "\n",
        "# targ, inp = load_data('ipa_pairs_all.csv')\n",
        "targ, inp = load_data('/content/drive/MyDrive/eng-to-ipa/en_UK.csv')\n",
        "print(inp[-1])\n",
        "print(targ[-1])\n",
        "\n",
        "BUFFER_SIZE = len(inp)\n",
        "BATCH_SIZE = 64\n",
        "\n",
        "dataset = tf.data.Dataset.from_tensor_slices((inp, targ)).shuffle(BUFFER_SIZE)\n",
        "dataset = dataset.batch(BATCH_SIZE)\n",
        "\n",
        "for example_input_batch, example_target_batch in dataset.take(1):\n",
        "    print(example_input_batch[:5])\n",
        "    print()\n",
        "    print(example_target_batch[:5])\n",
        "    break\n",
        "\n",
        "example_text = tf.constant('l u ː t')\n",
        "\n",
        "print(example_text.numpy())"
      ],
      "metadata": {
        "id": "GuQtxgwA0M3h",
        "colab": {
          "base_uri": "https://localhost:8080/"
        },
        "outputId": "5cc7bfac-3233-47c5-a379-7cf97b844ef3"
      },
      "execution_count": null,
      "outputs": [
        {
          "output_type": "stream",
          "name": "stdout",
          "text": [
            "ü b e r m e n s c h\n",
            "/ ʔ y ː b ɐ m ɛ n ʃ /\n",
            "tf.Tensor(\n",
            "[b's t a u n c h n e s s' b't e r r a r i u m' b'a s s e n t s'\n",
            " b'p r e s s u r e s' b'o f t e n t i m e s'], shape=(5,), dtype=string)\n",
            "\n",
            "tf.Tensor(\n",
            "[b'/ s t \\xcb\\x88 \\xc9\\x94 \\xcb\\x90 n t \\xca\\x83 n \\xc9\\x99 s /'\n",
            " b'/ t \\xc9\\x9b \\xc9\\xb9 \\xcb\\x88 e \\xc9\\x99 \\xc9\\xb9 i \\xc9\\x99 m /'\n",
            " b'/ \\xc9\\x90 s \\xcb\\x88 \\xc9\\x9b n t s /'\n",
            " b'/ p \\xc9\\xb9 \\xcb\\x88 \\xc9\\x9b \\xca\\x83 \\xc9\\x99 z /'\n",
            " b'/ \\xcb\\x88 \\xc9\\x92 f \\xc9\\xaa n t \\xcb\\x8c a \\xc9\\xaa m z /'], shape=(5,), dtype=string)\n",
            "b'l u \\xcb\\x90 t'\n"
          ]
        }
      ]
    },
    {
      "cell_type": "code",
      "source": [
        "def tf_lower_and_split_punct(text):\n",
        "    # Split accented characters.\n",
        "    # Keep space, a to z, and select punctuation.\n",
        "    # Add spaces around punctuation.\n",
        "    # Strip whitespace.\n",
        "    text = tf.strings.strip(text)\n",
        "\n",
        "    text = tf.strings.join(['[START]', text, '[END]'], separator=' ')\n",
        "    return text\n",
        "\n",
        "\n",
        "print(example_text.numpy().decode())\n",
        "print(tf_lower_and_split_punct(example_text).numpy().decode())"
      ],
      "metadata": {
        "id": "4W6f32af0CtF",
        "colab": {
          "base_uri": "https://localhost:8080/"
        },
        "outputId": "5fe617e6-d70f-4e9d-a4b4-104019072865"
      },
      "execution_count": null,
      "outputs": [
        {
          "output_type": "stream",
          "name": "stdout",
          "text": [
            "l u ː t\n",
            "[START] l u ː t [END]\n"
          ]
        }
      ]
    },
    {
      "cell_type": "code",
      "source": [
        "max_vocab_size = 5000\n",
        "\n",
        "input_text_processor = tf.keras.layers.TextVectorization(\n",
        "    standardize=tf_lower_and_split_punct,\n",
        "    max_tokens=max_vocab_size\n",
        ")\n",
        "\n",
        "input_text_processor.adapt(inp)\n",
        "\n",
        "# Here are the first 10 words from the vocabulary:\n",
        "print(input_text_processor.get_vocabulary()[:10])\n",
        "\n",
        "output_text_processor = tf.keras.layers.TextVectorization(\n",
        "    standardize=tf_lower_and_split_punct,\n",
        "    max_tokens=max_vocab_size\n",
        ")\n",
        "\n",
        "output_text_processor.adapt(targ)\n",
        "print(output_text_processor.get_vocabulary()[:10])\n",
        "\n",
        "example_tokens = input_text_processor(example_input_batch)\n",
        "print(example_tokens[:3, :10])\n",
        "\n",
        "input_vocab = np.array(input_text_processor.get_vocabulary())\n",
        "tokens = input_vocab[example_tokens[0].numpy()]\n",
        "print(''.join(tokens))\n",
        "\n",
        "plt.subplot(1, 2, 1)\n",
        "plt.pcolormesh(example_tokens)\n",
        "plt.title('Token IDs')\n",
        "\n",
        "plt.subplot(1, 2, 2)\n",
        "plt.pcolormesh(example_tokens != 0)\n",
        "plt.title('Mask')"
      ],
      "metadata": {
        "id": "xz4wR5Le02zQ",
        "colab": {
          "base_uri": "https://localhost:8080/",
          "height": 595
        },
        "outputId": "444a6886-a0d9-43a2-f4f2-150e4217a1ad"
      },
      "execution_count": null,
      "outputs": [
        {
          "output_type": "stream",
          "name": "stdout",
          "text": [
            "['', '[UNK]', '[START]', '[END]', 'e', 's', 'i', 'a', 'r', 'n']\n",
            "['', '[UNK]', '/', '[START]', '[END]', 'ˈ', 'ɪ', 'ə', 't', 's']\n",
            "tf.Tensor(\n",
            "[[ 2  5 10  7 15  9 13 19  9  4]\n",
            " [ 2 10  4  8  8  7  8  6 15 18]\n",
            " [ 2  7  5  5  4  9 10  5  3  0]], shape=(3, 10), dtype=int64)\n",
            "[START]staunchness[END]\n"
          ]
        },
        {
          "output_type": "execute_result",
          "data": {
            "text/plain": [
              "Text(0.5, 1.0, 'Mask')"
            ]
          },
          "metadata": {},
          "execution_count": 31
        },
        {
          "output_type": "display_data",
          "data": {
            "text/plain": [
              "<Figure size 640x480 with 2 Axes>"
            ],
            "image/png": "[encoded data removed]"
          },
          "metadata": {}
        }
      ]
    },
    {
      "cell_type": "code",
      "source": [
        "class Encoder(tf.keras.layers.Layer):\n",
        "    def __init__(self, input_vocab_size, embedding_dim, enc_units):\n",
        "        super(Encoder, self).__init__()\n",
        "        self.enc_units = enc_units\n",
        "        self.input_vocab_size = input_vocab_size\n",
        "\n",
        "        # The embedding layer converts tokens to vectors\n",
        "        self.embedding = tf.keras.layers.Embedding(\n",
        "            self.input_vocab_size,\n",
        "            embedding_dim\n",
        "        )\n",
        "\n",
        "        # The GRU RNN layer processes those vectors sequentially.\n",
        "        self.gru = tf.keras.layers.GRU(\n",
        "            self.enc_units,\n",
        "            return_sequences=True,\n",
        "            return_state=True,\n",
        "            recurrent_initializer='glorot_uniform'\n",
        "        )\n",
        "\n",
        "    def call(self, tokens, state=None):\n",
        "        shape_checker = ShapeChecker()\n",
        "        shape_checker(tokens, ('batch', 's'))\n",
        "\n",
        "        # 2. The embedding layer looks up the embedding for each token.\n",
        "        vectors = self.embedding(tokens)\n",
        "        shape_checker(vectors, ('batch', 's', 'embed_dim'))\n",
        "\n",
        "        # 3. The GRU processes the embedding sequence.\n",
        "        #    output shape: (batch, s, enc_units)\n",
        "        #    state shape: (batch, enc_units)\n",
        "        output, state = self.gru(vectors, initial_state=state)\n",
        "        shape_checker(output, ('batch', 's', 'enc_units'))\n",
        "        shape_checker(state, ('batch', 'enc_units'))\n",
        "\n",
        "        # 4. Returns the new sequence and its state.\n",
        "        return output, state\n"
      ],
      "metadata": {
        "id": "WkFuip9-09Nn"
      },
      "execution_count": null,
      "outputs": []
    },
    {
      "cell_type": "code",
      "source": [
        "embedding_dim = 256\n",
        "units = 1024\n",
        "\n",
        "# Convert the input text to tokens.\n",
        "example_tokens = input_text_processor(example_input_batch)\n",
        "\n",
        "# Encode the input sequence.\n",
        "encoder = Encoder(input_text_processor.vocabulary_size(), embedding_dim, units)\n",
        "example_enc_output, example_enc_state = encoder(example_tokens)\n",
        "\n",
        "print(f'Input batch, shape (batch): {example_input_batch.shape}')\n",
        "print(f'Input batch tokens, shape (batch, s): {example_tokens.shape}')\n",
        "print(f'Encoder output, shape (batch, s, units): {example_enc_output.shape}')\n",
        "print(f'Encoder state, shape (batch, units): {example_enc_state.shape}')"
      ],
      "metadata": {
        "id": "C9H-GBAs09q0",
        "colab": {
          "base_uri": "https://localhost:8080/"
        },
        "outputId": "f17dee1e-5b68-4f5e-9169-8df2316c93e5"
      },
      "execution_count": null,
      "outputs": [
        {
          "output_type": "stream",
          "name": "stdout",
          "text": [
            "Input batch, shape (batch): (64,)\n",
            "Input batch tokens, shape (batch, s): (64, 20)\n",
            "Encoder output, shape (batch, s, units): (64, 20, 1024)\n",
            "Encoder state, shape (batch, units): (64, 1024)\n"
          ]
        }
      ]
    },
    {
      "cell_type": "code",
      "source": [
        "class BahdanauAttention(tf.keras.layers.Layer):\n",
        "    def __init__(self, units):\n",
        "        super().__init__()\n",
        "        # For Eqn. (4), the  Bahdanau attention\n",
        "        self.W1 = tf.keras.layers.Dense(units, use_bias=False)\n",
        "        self.W2 = tf.keras.layers.Dense(units, use_bias=False)\n",
        "\n",
        "        self.attention = tf.keras.layers.AdditiveAttention()\n",
        "\n",
        "    def call(self, query, value, mask):\n",
        "        shape_checker = ShapeChecker()\n",
        "        shape_checker(query, ('batch', 't', 'query_units'))\n",
        "        shape_checker(value, ('batch', 's', 'value_units'))\n",
        "        shape_checker(mask, ('batch', 's'))\n",
        "\n",
        "        # From Eqn. (4), `W1@ht`.\n",
        "        w1_query = self.W1(query)\n",
        "        shape_checker(w1_query, ('batch', 't', 'attn_units'))\n",
        "\n",
        "        # From Eqn. (4), `W2@hs`.\n",
        "        w2_key = self.W2(value)\n",
        "        shape_checker(w2_key, ('batch', 's', 'attn_units'))\n",
        "\n",
        "        query_mask = tf.ones(tf.shape(input=query)[:-1], dtype=bool)\n",
        "        value_mask = mask\n",
        "\n",
        "        context_vector, attention_weights = self.attention(\n",
        "            inputs=[w1_query, value, w2_key],\n",
        "            mask=[query_mask, value_mask],\n",
        "            return_attention_scores=True,\n",
        "        )\n",
        "        shape_checker(context_vector, ('batch', 't', 'value_units'))\n",
        "        shape_checker(attention_weights, ('batch', 't', 's'))\n",
        "\n",
        "        return context_vector, attention_weights"
      ],
      "metadata": {
        "id": "xC-Abzp-_mbN"
      },
      "execution_count": null,
      "outputs": []
    },
    {
      "cell_type": "code",
      "source": [
        "attention_layer = BahdanauAttention(units)\n",
        "print((example_tokens != 0).shape)\n",
        "\n",
        "# Later, the decoder will generate this attention query\n",
        "example_attention_query = tf.random.normal(shape=[len(example_tokens), 2, 10])\n",
        "\n",
        "# Attend to the encoded tokens\n",
        "context_vector, attention_weights = attention_layer(\n",
        "    query=example_attention_query,\n",
        "    value=example_enc_output,\n",
        "    mask=(example_tokens != 0)\n",
        ")\n",
        "\n",
        "print(f'Attention result shape: (batch_size, query_seq_length, units):           {context_vector.shape}')\n",
        "print(f'Attention weights shape: (batch_size, query_seq_length, value_seq_length): {attention_weights.shape}')\n",
        "\n",
        "plt.subplot(1, 2, 1)\n",
        "plt.pcolormesh(attention_weights[:, 0, :])\n",
        "plt.title('Attention weights')\n",
        "\n",
        "plt.subplot(1, 2, 2)\n",
        "plt.pcolormesh(example_tokens != 0)\n",
        "plt.title('Mask')\n",
        "\n",
        "print(attention_weights.shape)\n",
        "\n",
        "attention_slice = attention_weights[0, 0].numpy()\n",
        "attention_slice = attention_slice[attention_slice != 0]\n",
        "\n",
        "plt.suptitle('Attention weights for one sequence')\n",
        "\n",
        "plt.figure(figsize=(12, 6))\n",
        "a1 = plt.subplot(1, 2, 1)\n",
        "plt.bar(range(len(attention_slice)), attention_slice)\n",
        "# freeze the xlim\n",
        "plt.xlim(plt.xlim())\n",
        "plt.xlabel('Attention weights')\n",
        "\n",
        "a2 = plt.subplot(1, 2, 2)\n",
        "plt.bar(range(len(attention_slice)), attention_slice)\n",
        "plt.xlabel('Attention weights, zoomed')\n",
        "\n",
        "# zoom in\n",
        "top = max(a1.get_ylim())\n",
        "zoom = 0.85 * top\n",
        "a2.set_ylim([0.90 * top, top])\n",
        "a1.plot(a1.get_xlim(), [zoom, zoom], color='k')"
      ],
      "metadata": {
        "colab": {
          "base_uri": "https://localhost:8080/",
          "height": 1000
        },
        "id": "CBkWZf5y_nNG",
        "outputId": "98910718-70e3-4b9a-a458-c1c33c74ffcc"
      },
      "execution_count": null,
      "outputs": [
        {
          "output_type": "stream",
          "name": "stdout",
          "text": [
            "(64, 20)\n",
            "Attention result shape: (batch_size, query_seq_length, units):           (64, 2, 1024)\n",
            "Attention weights shape: (batch_size, query_seq_length, value_seq_length): (64, 2, 20)\n",
            "(64, 2, 20)\n"
          ]
        },
        {
          "output_type": "execute_result",
          "data": {
            "text/plain": [
              "[<matplotlib.lines.Line2D at 0x7f1b302b2c50>]"
            ]
          },
          "metadata": {},
          "execution_count": 35
        },
        {
          "output_type": "display_data",
          "data": {
            "text/plain": [
              "<Figure size 640x480 with 2 Axes>"
            ],
            "image/png": "[encoded data removed]"
          },
          "metadata": {}
        },
        {
          "output_type": "display_data",
          "data": {
            "text/plain": [
              "<Figure size 1200x600 with 2 Axes>"
            ],
            "image/png": "[encoded data removed]"
          },
          "metadata": {}
        }
      ]
    },
    {
      "cell_type": "code",
      "source": [
        "class Decoder(tf.keras.layers.Layer):\n",
        "    def __init__(self, output_vocab_size, embedding_dim, dec_units):\n",
        "        super(Decoder, self).__init__()\n",
        "        self.dec_units = dec_units\n",
        "        self.output_vocab_size = output_vocab_size\n",
        "        self.embedding_dim = embedding_dim\n",
        "\n",
        "        # For Step 1. The embedding layer converts token IDs to vectors\n",
        "        self.embedding = tf.keras.layers.Embedding(\n",
        "            self.output_vocab_size,\n",
        "            embedding_dim\n",
        "        )\n",
        "\n",
        "        # For Step 2. The RNN keeps track of what's been generated so far.\n",
        "        self.gru = tf.keras.layers.GRU(\n",
        "            self.dec_units,\n",
        "            return_sequences=True,\n",
        "            return_state=True,\n",
        "            recurrent_initializer='glorot_uniform'\n",
        "        )\n",
        "\n",
        "        # For step 3. The RNN output will be the query for the attention layer.\n",
        "        self.attention = BahdanauAttention(self.dec_units)\n",
        "\n",
        "        # For step 4. Eqn. (3): converting `ct` to `at`\n",
        "        self.Wc = tf.keras.layers.Dense(\n",
        "            dec_units,\n",
        "            activation=tf.math.tanh,\n",
        "            use_bias=False\n",
        "        )\n",
        "\n",
        "        # For step 5. This fully connected layer produces the logits for each\n",
        "        # output token.\n",
        "        self.fc = tf.keras.layers.Dense(self.output_vocab_size)\n",
        "\n",
        "\n",
        "class DecoderInput(typing.NamedTuple):\n",
        "    new_tokens: Any\n",
        "    enc_output: Any\n",
        "    mask: Any\n",
        "\n",
        "\n",
        "class DecoderOutput(typing.NamedTuple):\n",
        "    logits: Any\n",
        "    attention_weights: Any\n",
        "\n",
        "\n",
        "def call(\n",
        "        self,\n",
        "        inputs: DecoderInput,\n",
        "        state=None\n",
        ") -> Tuple[DecoderOutput, tf.Tensor]:\n",
        "    shape_checker = ShapeChecker()\n",
        "    shape_checker(inputs.new_tokens, ('batch', 't'))\n",
        "    shape_checker(inputs.enc_output, ('batch', 's', 'enc_units'))\n",
        "    shape_checker(inputs.mask, ('batch', 's'))\n",
        "\n",
        "    if state is not None:\n",
        "        shape_checker(state, ('batch', 'dec_units'))\n",
        "\n",
        "    # Step 1. Lookup the embeddings\n",
        "    vectors = self.embedding(inputs.new_tokens)\n",
        "    shape_checker(vectors, ('batch', 't', 'embedding_dim'))\n",
        "\n",
        "    # Step 2. Process one step with the RNN\n",
        "    rnn_output, state = self.gru(vectors, initial_state=state)\n",
        "\n",
        "    shape_checker(rnn_output, ('batch', 't', 'dec_units'))\n",
        "    shape_checker(state, ('batch', 'dec_units'))\n",
        "\n",
        "    # Step 3. Use the RNN output as the query for the attention over the\n",
        "    # encoder output.\n",
        "    context_vector, attention_weights = self.attention(\n",
        "        query=rnn_output,\n",
        "        value=inputs.enc_output,\n",
        "        mask=inputs.mask\n",
        "    )\n",
        "    shape_checker(context_vector, ('batch', 't', 'dec_units'))\n",
        "    shape_checker(attention_weights, ('batch', 't', 's'))\n",
        "\n",
        "    # Step 4. Eqn. (3): Join the context_vector and rnn_output\n",
        "    #     [ct; ht] shape: (batch t, value_units + query_units)\n",
        "    context_and_rnn_output = tf.concat([context_vector, rnn_output], axis=-1)\n",
        "\n",
        "    # Step 4. Eqn. (3): `at = tanh(Wc@[ct; ht])`\n",
        "    attention_vector = self.Wc(context_and_rnn_output)\n",
        "    shape_checker(attention_vector, ('batch', 't', 'dec_units'))\n",
        "\n",
        "    # Step 5. Generate logit predictions:\n",
        "    logits = self.fc(attention_vector)\n",
        "    shape_checker(logits, ('batch', 't', 'output_vocab_size'))\n",
        "\n",
        "    return DecoderOutput(logits, attention_weights), state\n",
        "\n",
        "\n",
        "Decoder.call = call\n",
        "\n",
        "decoder = Decoder(\n",
        "    output_text_processor.vocabulary_size(),\n",
        "    embedding_dim,\n",
        "    units\n",
        ")\n",
        "\n",
        "# Convert the target sequence, and collect the \"[START]\" tokens\n",
        "example_output_tokens = output_text_processor(example_target_batch)\n",
        "\n",
        "start_index = output_text_processor.get_vocabulary().index('[START]')\n",
        "first_token = tf.constant([[start_index]] * example_output_tokens.shape[0])\n",
        "\n",
        "# Run the decoder\n",
        "dec_result, dec_state = decoder(\n",
        "    inputs=DecoderInput(\n",
        "        new_tokens=first_token,\n",
        "        enc_output=example_enc_output,\n",
        "        mask=(example_tokens != 0)\n",
        "    ),\n",
        "    state=example_enc_state\n",
        ")\n",
        "\n",
        "print(f'logits shape: (batch_size, t, output_vocab_size) {dec_result.logits.shape}')\n",
        "print(f'state shape: (batch_size, dec_units) {dec_state.shape}')\n",
        "\n",
        "sampled_token = tf.random.categorical(dec_result.logits[:, 0, :], num_samples=1)\n",
        "vocab = np.array(output_text_processor.get_vocabulary())\n",
        "first_word = vocab[sampled_token.numpy()]\n",
        "print(first_word[:5])\n",
        "\n",
        "dec_result, dec_state = decoder(\n",
        "    DecoderInput(\n",
        "        sampled_token,\n",
        "        example_enc_output,\n",
        "        mask=(example_tokens != 0)\n",
        "    ),\n",
        "    state=dec_state\n",
        ")\n",
        "\n",
        "sampled_token = tf.random.categorical(dec_result.logits[:, 0, :], num_samples=1)\n",
        "first_word = vocab[sampled_token.numpy()]\n",
        "print(first_word[:5])"
      ],
      "metadata": {
        "colab": {
          "base_uri": "https://localhost:8080/"
        },
        "id": "YbKHxTqm_vvZ",
        "outputId": "ba3f7469-d7c3-4ce9-a0d3-504c8ce897b6"
      },
      "execution_count": null,
      "outputs": [
        {
          "output_type": "stream",
          "name": "stdout",
          "text": [
            "logits shape: (batch_size, t, output_vocab_size) (64, 1, 99)\n",
            "state shape: (batch_size, dec_units) (64, 1024)\n",
            "[['æ']\n",
            " ['v']\n",
            " ['r']\n",
            " ['ɝ']\n",
            " ['n']]\n",
            "[['ˈ']\n",
            " ['/']\n",
            " ['[START]']\n",
            " ['ɛ']\n",
            " ['̥']]\n"
          ]
        }
      ]
    },
    {
      "cell_type": "code",
      "source": [
        "\n",
        "class MaskedLoss(tf.keras.losses.Loss):\n",
        "    def __init__(self):\n",
        "        self.name = 'masked_loss'\n",
        "        self.loss = tf.keras.losses.SparseCategoricalCrossentropy(\n",
        "            from_logits=True, reduction='none')\n",
        "\n",
        "    def __call__(self, y_true, y_pred):\n",
        "        shape_checker = ShapeChecker()\n",
        "        shape_checker(y_true, ('batch', 't'))\n",
        "        shape_checker(y_pred, ('batch', 't', 'logits'))\n",
        "\n",
        "        # Calculate the loss for each item in the batch.\n",
        "        loss = self.loss(y_true, y_pred)\n",
        "        shape_checker(loss, ('batch', 't'))\n",
        "\n",
        "        # Mask off the losses on padding.\n",
        "        mask = tf.cast(y_true != 0, tf.float32)\n",
        "        shape_checker(mask, ('batch', 't'))\n",
        "        loss *= mask\n",
        "\n",
        "        # Return the total.\n",
        "        return tf.reduce_sum(input_tensor=loss)\n",
        "\n",
        "\n",
        "class TrainTranslator(tf.keras.Model):\n",
        "    def __init__(\n",
        "            self,\n",
        "            embedding_dim,\n",
        "            units,\n",
        "            input_text_processor,\n",
        "            output_text_processor,\n",
        "            use_tf_function=True\n",
        "    ):\n",
        "        super().__init__()\n",
        "        # Build the encoder and decoder\n",
        "        encoder = Encoder(\n",
        "            input_text_processor.vocabulary_size(),\n",
        "            embedding_dim,\n",
        "            units\n",
        "        )\n",
        "        decoder = Decoder(\n",
        "            output_text_processor.vocabulary_size(),\n",
        "            embedding_dim,\n",
        "            units\n",
        "        )\n",
        "\n",
        "        self.encoder = encoder\n",
        "        self.decoder = decoder\n",
        "        self.input_text_processor = input_text_processor\n",
        "        self.output_text_processor = output_text_processor\n",
        "        self.use_tf_function = use_tf_function\n",
        "        self.shape_checker = ShapeChecker()\n",
        "\n",
        "    def train_step(self, inputs):\n",
        "        self.shape_checker = ShapeChecker()\n",
        "        if self.use_tf_function:\n",
        "            return self._tf_train_step(inputs)\n",
        "        else:\n",
        "            return self._train_step(inputs)\n",
        "\n",
        "\n",
        "def _preprocess(self, input_text, target_text):\n",
        "    self.shape_checker(input_text, ('batch',))\n",
        "    self.shape_checker(target_text, ('batch',))\n",
        "\n",
        "    # Convert the text to token IDs\n",
        "    input_tokens = self.input_text_processor(input_text)\n",
        "    target_tokens = self.output_text_processor(target_text)\n",
        "    self.shape_checker(input_tokens, ('batch', 's'))\n",
        "    self.shape_checker(target_tokens, ('batch', 't'))\n",
        "\n",
        "    # Convert IDs to masks.\n",
        "    input_mask = input_tokens != 0\n",
        "    self.shape_checker(input_mask, ('batch', 's'))\n",
        "\n",
        "    target_mask = target_tokens != 0\n",
        "    self.shape_checker(target_mask, ('batch', 't'))\n",
        "\n",
        "    return input_tokens, input_mask, target_tokens, target_mask\n",
        "\n",
        "\n",
        "TrainTranslator._preprocess = _preprocess\n",
        "\n",
        "\n",
        "def _train_step(self, inputs):\n",
        "    input_text, target_text = inputs\n",
        "\n",
        "    (\n",
        "        input_tokens,\n",
        "        input_mask,\n",
        "        target_tokens,\n",
        "        target_mask\n",
        "    ) = self._preprocess(input_text, target_text)\n",
        "\n",
        "    max_target_length = tf.shape(input=target_tokens)[1]\n",
        "\n",
        "    with tf.GradientTape() as tape:\n",
        "        # Encode the input\n",
        "        enc_output, enc_state = self.encoder(input_tokens)\n",
        "        self.shape_checker(enc_output, ('batch', 's', 'enc_units'))\n",
        "        self.shape_checker(enc_state, ('batch', 'enc_units'))\n",
        "\n",
        "        # Initialize the decoder's state to the encoder's final state.\n",
        "        # This only works if the encoder and decoder have the same number of\n",
        "        # units.\n",
        "        dec_state = enc_state\n",
        "        loss = tf.constant(0.0)\n",
        "\n",
        "        for t in tf.range(max_target_length - 1):\n",
        "            # Pass in two tokens from the target sequence:\n",
        "            # 1. The current input to the decoder.\n",
        "            # 2. The target for the decoder's next prediction.\n",
        "            new_tokens = target_tokens[:, t:t + 2]\n",
        "            step_loss, dec_state = self._loop_step(new_tokens, input_mask,\n",
        "                                                   enc_output, dec_state)\n",
        "            loss = loss + step_loss\n",
        "\n",
        "        # Average the loss over all non padding tokens.\n",
        "        average_loss = loss / tf.reduce_sum(input_tensor=tf.cast(target_mask, tf.float32))\n",
        "\n",
        "    # Apply an optimization step\n",
        "    variables = self.trainable_variables\n",
        "    gradients = tape.gradient(average_loss, variables)\n",
        "    self.optimizer.apply_gradients(zip(gradients, variables))\n",
        "\n",
        "    # Return a dict mapping metric names to current value\n",
        "    return {'batch_loss': average_loss}\n",
        "\n",
        "\n",
        "TrainTranslator._train_step = _train_step\n",
        "\n",
        "\n",
        "def _loop_step(self, new_tokens, input_mask, enc_output, dec_state):\n",
        "    input_token, target_token = new_tokens[:, 0:1], new_tokens[:, 1:2]\n",
        "\n",
        "    # Run the decoder one step.\n",
        "    decoder_input = DecoderInput(\n",
        "        new_tokens=input_token,\n",
        "        enc_output=enc_output,\n",
        "        mask=input_mask\n",
        "    )\n",
        "\n",
        "    dec_result, dec_state = self.decoder(decoder_input, state=dec_state)\n",
        "    self.shape_checker(dec_result.logits, ('batch', 't1', 'logits'))\n",
        "    self.shape_checker(dec_result.attention_weights, ('batch', 't1', 's'))\n",
        "    self.shape_checker(dec_state, ('batch', 'dec_units'))\n",
        "\n",
        "    # `self.loss` returns the total for non-padded tokens\n",
        "    y = target_token\n",
        "    y_pred = dec_result.logits\n",
        "    step_loss = self.loss(y, y_pred)\n",
        "\n",
        "    return step_loss, dec_state\n",
        "\n",
        "\n",
        "TrainTranslator._loop_step = _loop_step\n",
        "\n",
        "translator = TrainTranslator(\n",
        "    embedding_dim,\n",
        "    units,\n",
        "    input_text_processor=input_text_processor,\n",
        "    output_text_processor=output_text_processor,\n",
        "    use_tf_function=False\n",
        ")\n",
        "\n",
        "# Configure the loss and optimizer\n",
        "translator.compile(\n",
        "    optimizer=tf.optimizers.Adam(),\n",
        "    loss=MaskedLoss(),\n",
        ")\n",
        "\n",
        "np.log(output_text_processor.vocabulary_size())\n",
        "\n",
        "\n",
        "for n in range(10):\n",
        "    print(translator.train_step([example_input_batch, example_target_batch]))\n",
        "print()\n",
        "\n",
        "@tf.function(input_signature=[[tf.TensorSpec(dtype=tf.string, shape=[None]),\n",
        "                               tf.TensorSpec(dtype=tf.string, shape=[None])]])\n",
        "def _tf_train_step(self, inputs):\n",
        "    return self._train_step(inputs)\n",
        "\n",
        "\n",
        "TrainTranslator._tf_train_step = _tf_train_step\n",
        "\n",
        "translator.use_tf_function = True\n",
        "\n",
        "translator.train_step([example_input_batch, example_target_batch])\n",
        "\n",
        "for n in range(10):\n",
        "    print(translator.train_step([example_input_batch, example_target_batch]))\n",
        "print()\n",
        "\n",
        "losses = []\n",
        "for n in range(100):\n",
        "    print('.', end='')\n",
        "    logs = translator.train_step([example_input_batch, example_target_batch])\n",
        "    losses.append(logs['batch_loss'].numpy())\n",
        "\n",
        "print()\n",
        "plt.plot(losses)\n",
        "\n",
        "train_translator = TrainTranslator(\n",
        "    embedding_dim, units,\n",
        "    input_text_processor=input_text_processor,\n",
        "    output_text_processor=output_text_processor\n",
        ")\n",
        "\n",
        "# Configure the loss and optimizer\n",
        "train_translator.compile(\n",
        "    optimizer=tf.optimizers.Adam(),\n",
        "    loss=MaskedLoss(),\n",
        ")\n"
      ],
      "metadata": {
        "colab": {
          "base_uri": "https://localhost:8080/",
          "height": 841
        },
        "id": "KYRBtQVW_1s4",
        "outputId": "8176322a-b9ad-4ae0-b5bb-cc805c3a3097"
      },
      "execution_count": null,
      "outputs": [
        {
          "output_type": "stream",
          "name": "stdout",
          "text": [
            "{'batch_loss': <tf.Tensor: shape=(), dtype=float32, numpy=4.259415>}\n",
            "{'batch_loss': <tf.Tensor: shape=(), dtype=float32, numpy=4.1535797>}\n",
            "{'batch_loss': <tf.Tensor: shape=(), dtype=float32, numpy=3.9465957>}\n",
            "{'batch_loss': <tf.Tensor: shape=(), dtype=float32, numpy=3.4366279>}\n",
            "{'batch_loss': <tf.Tensor: shape=(), dtype=float32, numpy=6.2468414>}\n",
            "{'batch_loss': <tf.Tensor: shape=(), dtype=float32, numpy=2.9979649>}\n",
            "{'batch_loss': <tf.Tensor: shape=(), dtype=float32, numpy=3.190064>}\n",
            "{'batch_loss': <tf.Tensor: shape=(), dtype=float32, numpy=3.2787056>}\n",
            "{'batch_loss': <tf.Tensor: shape=(), dtype=float32, numpy=3.2512832>}\n",
            "{'batch_loss': <tf.Tensor: shape=(), dtype=float32, numpy=3.1491225>}\n",
            "\n",
            "{'batch_loss': <tf.Tensor: shape=(), dtype=float32, numpy=2.9536445>}\n",
            "{'batch_loss': <tf.Tensor: shape=(), dtype=float32, numpy=2.8463423>}\n",
            "{'batch_loss': <tf.Tensor: shape=(), dtype=float32, numpy=2.725579>}\n",
            "{'batch_loss': <tf.Tensor: shape=(), dtype=float32, numpy=2.655176>}\n",
            "{'batch_loss': <tf.Tensor: shape=(), dtype=float32, numpy=2.6173575>}\n",
            "{'batch_loss': <tf.Tensor: shape=(), dtype=float32, numpy=2.587336>}\n",
            "{'batch_loss': <tf.Tensor: shape=(), dtype=float32, numpy=2.548557>}\n",
            "{'batch_loss': <tf.Tensor: shape=(), dtype=float32, numpy=2.4984224>}\n",
            "{'batch_loss': <tf.Tensor: shape=(), dtype=float32, numpy=2.442489>}\n",
            "{'batch_loss': <tf.Tensor: shape=(), dtype=float32, numpy=2.3900802>}\n",
            "\n",
            "....................................................................................................\n"
          ]
        },
        {
          "output_type": "display_data",
          "data": {
            "text/plain": [
              "<Figure size 640x480 with 1 Axes>"
            ],
            "image/png": "[encoded data removed]"
          },
          "metadata": {}
        }
      ]
    },
    {
      "cell_type": "code",
      "source": [
        "class BatchLogs(tf.keras.callbacks.Callback):\n",
        "    def __init__(self, key):\n",
        "        self.key = key\n",
        "        self.logs = []\n",
        "\n",
        "    def on_train_batch_end(self, n, logs):\n",
        "        self.logs.append(logs[self.key])\n",
        "\n",
        "\n",
        "batch_loss = BatchLogs('batch_loss')\n",
        "\n",
        "train_translator.fit(\n",
        "    dataset,\n",
        "    epochs=3,\n",
        "    callbacks=[batch_loss]\n",
        ")\n",
        "\n",
        "plt.plot(batch_loss.logs)\n",
        "plt.ylim([0, 3])\n",
        "plt.xlabel('Batch #')\n",
        "plt.ylabel('CE/token')"
      ],
      "metadata": {
        "colab": {
          "base_uri": "https://localhost:8080/",
          "height": 580
        },
        "id": "gzcKwOih_70H",
        "outputId": "833865db-c056-44e6-e564-91e09f75f676"
      },
      "execution_count": null,
      "outputs": [
        {
          "output_type": "stream",
          "name": "stdout",
          "text": [
            "Epoch 1/3\n",
            "1025/1025 [==============================] - 371s 352ms/step - batch_loss: 0.5824\n",
            "Epoch 2/3\n",
            "1025/1025 [==============================] - 356s 347ms/step - batch_loss: 0.1577\n",
            "Epoch 3/3\n",
            "1025/1025 [==============================] - 379s 370ms/step - batch_loss: 0.1070\n"
          ]
        },
        {
          "output_type": "execute_result",
          "data": {
            "text/plain": [
              "Text(0, 0.5, 'CE/token')"
            ]
          },
          "metadata": {},
          "execution_count": 38
        },
        {
          "output_type": "display_data",
          "data": {
            "text/plain": [
              "<Figure size 640x480 with 1 Axes>"
            ],
            "image/png": "[encoded data removed]"
          },
          "metadata": {}
        }
      ]
    },
    {
      "cell_type": "code",
      "source": [
        "class Translator(tf.Module):\n",
        "\n",
        "    def __init__(self, encoder, decoder, input_text_processor, output_text_processor):\n",
        "        self.encoder = encoder\n",
        "        self.decoder = decoder\n",
        "        self.input_text_processor = input_text_processor\n",
        "        self.output_text_processor = output_text_processor\n",
        "\n",
        "        self.output_token_string_from_index = (\n",
        "            tf.keras.layers.StringLookup(\n",
        "                vocabulary=output_text_processor.get_vocabulary(),\n",
        "                mask_token='',\n",
        "                invert=True\n",
        "            )\n",
        "        )\n",
        "\n",
        "        # The output should never generate padding, unknown, or start.\n",
        "        index_from_string = tf.keras.layers.StringLookup(\n",
        "            vocabulary=output_text_processor.get_vocabulary(),\n",
        "            mask_token=''\n",
        "        )\n",
        "        token_mask_ids = index_from_string(['', '[UNK]', '[START]']).numpy()\n",
        "\n",
        "        token_mask = np.zeros([index_from_string.vocabulary_size()], dtype=np.bool_)\n",
        "        token_mask[np.array(token_mask_ids)] = True\n",
        "        \n",
        "        self.token_mask = token_mask\n",
        "        self.start_token = index_from_string(tf.constant('[START]'))\n",
        "        self.end_token = index_from_string(tf.constant('[END]'))\n",
        "\n",
        "\n",
        "translator = Translator(\n",
        "    encoder=train_translator.encoder,\n",
        "    decoder=train_translator.decoder,\n",
        "    input_text_processor=input_text_processor,\n",
        "    output_text_processor=output_text_processor,\n",
        ")\n",
        "\n",
        "\n",
        "def tokens_to_text(self, result_tokens):\n",
        "    shape_checker = ShapeChecker()\n",
        "    shape_checker(result_tokens, ('batch', 't'))\n",
        "    result_text_tokens = self.output_token_string_from_index(result_tokens)\n",
        "    shape_checker(result_text_tokens, ('batch', 't'))\n",
        "\n",
        "    result_text = tf.strings.reduce_join(\n",
        "        inputs=result_text_tokens,\n",
        "        axis=1,\n",
        "        separator=' '\n",
        "    )\n",
        "    shape_checker(result_text, ('batch',))\n",
        "\n",
        "    result_text = tf.strings.strip(result_text)\n",
        "    shape_checker(result_text, ('batch',))\n",
        "    return result_text\n",
        "\n",
        "\n",
        "Translator.tokens_to_text = tokens_to_text\n",
        "\n",
        "example_output_tokens = tf.random.uniform(\n",
        "    shape=[5, 2],\n",
        "    minval=0,\n",
        "    dtype=tf.int64,\n",
        "    maxval=output_text_processor.vocabulary_size()\n",
        ")\n",
        "translator.tokens_to_text(example_output_tokens).numpy()\n",
        "\n",
        "\n",
        "def sample(self, logits, temperature):\n",
        "    shape_checker = ShapeChecker()\n",
        "    # 't' is usually 1 here.\n",
        "    shape_checker(logits, ('batch', 't', 'vocab'))\n",
        "    shape_checker(self.token_mask, ('vocab',))\n",
        "    token_mask = self.token_mask[tf.newaxis, tf.newaxis, :]\n",
        "    token_mask = tf.repeat(token_mask[:, :1, :], len(logits), axis=0)\n",
        "\n",
        "    shape_checker(token_mask, ('batch', 't', 'vocab'), broadcast=True)\n",
        "    \n",
        "    # Set the logits for all masked tokens to -inf, so they are never chosen.\n",
        "    logits = tf.where(token_mask, tf.fill([len(logits), 1, 99], -np.inf), logits)\n",
        "\n",
        "    if temperature == 0.0:\n",
        "        new_tokens = tf.argmax(input=logits, axis=-1)\n",
        "    else:\n",
        "        logits = tf.squeeze(logits, axis=1)\n",
        "        new_tokens = tf.random.categorical(logits / temperature,\n",
        "                                           num_samples=1)\n",
        "\n",
        "    shape_checker(new_tokens, ('batch', 't'))\n",
        "\n",
        "    return new_tokens\n",
        "\n",
        "\n",
        "Translator.sample = sample\n",
        "\n",
        "example_logits = tf.random.normal([5, 1, output_text_processor.vocabulary_size()])\n",
        "example_output_tokens = translator.sample(example_logits, temperature=1.0)\n",
        "example_output_tokens\n",
        "\n",
        "\n",
        "def translate_unrolled(\n",
        "        self,\n",
        "        input_text,\n",
        "        *,\n",
        "        max_length=50,\n",
        "        return_attention=True,\n",
        "        temperature=1.0\n",
        "):\n",
        "    batch_size = tf.shape(input=input_text)[0]\n",
        "    input_tokens = self.input_text_processor(input_text)\n",
        "    enc_output, enc_state = self.encoder(input_tokens)\n",
        "\n",
        "    dec_state = enc_state\n",
        "    new_tokens = tf.fill([batch_size, 1], self.start_token)\n",
        "\n",
        "    result_tokens = []\n",
        "    attention = []\n",
        "    done = tf.zeros([batch_size, 1], dtype=tf.bool)\n",
        "\n",
        "    for _ in range(max_length):\n",
        "        dec_input = DecoderInput(\n",
        "            new_tokens=new_tokens,\n",
        "            enc_output=enc_output,\n",
        "            mask=(input_tokens != 0)\n",
        "        )\n",
        "\n",
        "        dec_result, dec_state = self.decoder(dec_input, state=dec_state)\n",
        "\n",
        "        attention.append(dec_result.attention_weights)\n",
        "\n",
        "        new_tokens = self.sample(dec_result.logits, temperature)\n",
        "\n",
        "        # If a sequence produces an `end_token`, set it `done`\n",
        "        done = done | (new_tokens == self.end_token)\n",
        "        # Once a sequence is done it only produces 0-padding.\n",
        "\n",
        "        new_tokens = tf.where(done, tf.fill([len(new_tokens), 1], tf.constant(0, dtype=tf.int64)), new_tokens)\n",
        "\n",
        "        # Collect the generated tokens\n",
        "        result_tokens.append(new_tokens)\n",
        "\n",
        "        if tf.executing_eagerly() and tf.reduce_all(input_tensor=done):\n",
        "            break\n",
        "\n",
        "    # Convert the list of generates token ids to a list of strings.\n",
        "    result_tokens = tf.concat(result_tokens, axis=-1)\n",
        "    result_text = self.tokens_to_text(result_tokens)\n",
        "\n",
        "    if return_attention:\n",
        "        attention_stack = tf.concat(attention, axis=1)\n",
        "        return {'text': result_text, 'attention': attention_stack}\n",
        "    else:\n",
        "        return {'text': result_text}\n",
        "\n",
        "\n",
        "Translator.translate = translate_unrolled\n",
        "\n",
        "\n",
        "input_text = tf.constant([\n",
        "    'm o t t o',  # mɒtəʊ\n",
        "    'u n t i d y',  # ʌntaɪdi\n",
        "    'r a b b i t', # rabbit\n",
        "    'a b e r c r o m b i e',\n",
        "    's u m i n s k i'\n",
        "])\n",
        "\n",
        "result = translator.translate(input_text=input_text)\n",
        "\n",
        "print(\"\".join(result['text'][0].numpy().decode().split(' ')))\n",
        "print(\"\".join(result['text'][1].numpy().decode().split(' ')))\n",
        "print(\"\".join(result['text'][2].numpy().decode().split(' ')))\n",
        "print(\"\".join(result['text'][3].numpy().decode().split(' ')))\n",
        "print(\"\".join(result['text'][4].numpy().decode().split(' ')))\n",
        "print()\n",
        "\n",
        "@tf.function(input_signature=[tf.TensorSpec(dtype=tf.string, shape=[None])])\n",
        "def tf_translate(self, input_text):\n",
        "    return self.translate(input_text)\n",
        "\n",
        "\n",
        "Translator.tf_translate = tf_translate\n",
        "\n",
        "result = translator.tf_translate(input_text=input_text)\n",
        "\n",
        "print(input_text)\n",
        "\n",
        "print(\"\".join(result['text'][0].numpy().decode().split(' ')))\n",
        "print(\"\".join(result['text'][1].numpy().decode().split(' ')))\n",
        "print(\"\".join(result['text'][2].numpy().decode().split(' ')))\n",
        "print(\"\".join(result['text'][3].numpy().decode().split(' ')))\n",
        "print()"
      ],
      "metadata": {
        "colab": {
          "base_uri": "https://localhost:8080/"
        },
        "id": "kOT876daACDT",
        "outputId": "146b7bc1-f64f-45dc-f4ad-4da0143999c7"
      },
      "execution_count": null,
      "outputs": [
        {
          "output_type": "stream",
          "name": "stdout",
          "text": [
            "/mˈɒtəʊ/\n",
            "/ʌntˈaɪdii/\n",
            "/ɹˈæbɪt/\n",
            "/ɐbˈɜːkɹəʊmi/\n",
            "/sˈuːmɪnskˌi/\n",
            "\n",
            "tf.Tensor(\n",
            "[b'm o t t o' b'u n t i d y' b'r a b b i t' b'a b e r c r o m b i e'\n",
            " b's u m i n s k i'], shape=(5,), dtype=string)\n",
            "/mˈɒtəʊ/\n",
            "/ʌntˈaɪdi/\n",
            "/ɹˈæbɪt/\n",
            "/ɐbˈɛkɹəbi/\n",
            "\n"
          ]
        }
      ]
    },
    {
      "cell_type": "code",
      "source": [
        "def translate_symbolic(self,\n",
        "                       input_text,\n",
        "                       *,\n",
        "                       max_length=50,\n",
        "                       return_attention=True,\n",
        "                       temperature=1.0):\n",
        "    shape_checker = ShapeChecker()\n",
        "    shape_checker(input_text, ('batch',))\n",
        "\n",
        "    batch_size = tf.shape(input=input_text)[0]\n",
        "\n",
        "    # Encode the input\n",
        "    input_tokens = self.input_text_processor(input_text)\n",
        "    shape_checker(input_tokens, ('batch', 's'))\n",
        "\n",
        "    enc_output, enc_state = self.encoder(input_tokens)\n",
        "    shape_checker(enc_output, ('batch', 's', 'enc_units'))\n",
        "    shape_checker(enc_state, ('batch', 'enc_units'))\n",
        "\n",
        "    # Initialize the decoder\n",
        "    dec_state = enc_state\n",
        "    new_tokens = tf.fill([batch_size, 1], self.start_token)\n",
        "    shape_checker(new_tokens, ('batch', 't1'))\n",
        "\n",
        "    # Initialize the accumulators\n",
        "    result_tokens = tf.TensorArray(tf.int64, size=1, dynamic_size=True)\n",
        "    attention = tf.TensorArray(tf.float32, size=1, dynamic_size=True)\n",
        "    done = tf.zeros([batch_size, 1], dtype=tf.bool)\n",
        "    shape_checker(done, ('batch', 't1'))\n",
        "\n",
        "    for t in tf.range(max_length):\n",
        "        dec_input = DecoderInput(\n",
        "            new_tokens=new_tokens, enc_output=enc_output, mask=(input_tokens != 0))\n",
        "\n",
        "        dec_result, dec_state = self.decoder(dec_input, state=dec_state)\n",
        "\n",
        "        shape_checker(dec_result.attention_weights, ('batch', 't1', 's'))\n",
        "        attention = attention.write(t, dec_result.attention_weights)\n",
        "\n",
        "        new_tokens = self.sample(dec_result.logits, temperature)\n",
        "        shape_checker(dec_result.logits, ('batch', 't1', 'vocab'))\n",
        "        shape_checker(new_tokens, ('batch', 't1'))\n",
        "\n",
        "        # If a sequence produces an `end_token`, set it `done`\n",
        "        done = done | (new_tokens == self.end_token)\n",
        "        # Once a sequence is done it only produces 0-padding.\n",
        "        \n",
        "        new_tokens = tf.where(done, tf.fill([len(new_tokens), 1], tf.constant(0, dtype=tf.int64)), new_tokens)\n",
        "  \n",
        "        # Collect the generated tokens\n",
        "        result_tokens = result_tokens.write(t, new_tokens)\n",
        "\n",
        "        if tf.reduce_all(input_tensor=done):\n",
        "            break\n",
        "\n",
        "    # Convert the list of generated token ids to a list of strings.\n",
        "    result_tokens = result_tokens.stack()\n",
        "    shape_checker(result_tokens, ('t', 'batch', 't0'))\n",
        "    result_tokens = tf.squeeze(result_tokens, -1)\n",
        "    result_tokens = tf.transpose(a=result_tokens, perm=[1, 0])\n",
        "    shape_checker(result_tokens, ('batch', 't'))\n",
        "\n",
        "    result_text = self.tokens_to_text(result_tokens)\n",
        "    shape_checker(result_text, ('batch',))\n",
        "\n",
        "    if return_attention:\n",
        "        attention_stack = attention.stack()\n",
        "        shape_checker(attention_stack, ('t', 'batch', 't1', 's'))\n",
        "\n",
        "        attention_stack = tf.squeeze(attention_stack, 2)\n",
        "        shape_checker(attention_stack, ('t', 'batch', 's'))\n",
        "\n",
        "        attention_stack = tf.transpose(a=attention_stack, perm=[1, 0, 2])\n",
        "        shape_checker(attention_stack, ('batch', 't', 's'))\n",
        "\n",
        "        return {'text': result_text, 'attention': attention_stack}\n",
        "    else:\n",
        "        return {'text': result_text}\n",
        "\n",
        "\n",
        "Translator.translate = translate_symbolic\n",
        "\n",
        "\n",
        "result = translator.translate(input_text = input_text)\n",
        "\n",
        "\n",
        "print(input_text)\n",
        "\n",
        "print(\"\".join(result['text'][0].numpy().decode().split(' ')))\n",
        "print(\"\".join(result['text'][1].numpy().decode().split(' ')))\n",
        "print(\"\".join(result['text'][2].numpy().decode().split(' ')))\n",
        "print(\"\".join(result['text'][3].numpy().decode().split(' ')))\n",
        "print(\"\".join(result['text'][4].numpy().decode().split(' ')))\n",
        "print()"
      ],
      "metadata": {
        "colab": {
          "base_uri": "https://localhost:8080/"
        },
        "id": "n8C-gKRHAEdh",
        "outputId": "67b3cf2e-c26d-4cb3-f42f-496efae2747c"
      },
      "execution_count": null,
      "outputs": [
        {
          "output_type": "stream",
          "name": "stdout",
          "text": [
            "tf.Tensor(\n",
            "[b'm o t t o' b'u n t i d y' b'r a b b i t' b'a b e r c r o m b i e'\n",
            " b's u m i n s k i'], shape=(5,), dtype=string)\n",
            "/mˈɒtəʊ/\n",
            "/ʌntˈaɪdi/\n",
            "/ɹˈæbɪt/\n",
            "/ˌæbəkɹˈəʊbi/\n",
            "/sjˈuːmɪnskˌi/\n",
            "\n"
          ]
        }
      ]
    },
    {
      "cell_type": "code",
      "source": [
        "@tf.function(input_signature=[tf.TensorSpec(dtype=tf.string, shape=[None])])\n",
        "def tf_translate(self, input_text):\n",
        "    return self.translate(input_text)\n",
        "\n",
        "\n",
        "Translator.tf_translate = tf_translate\n",
        "\n",
        "result = translator.tf_translate(input_text = input_text)\n",
        "\n",
        "print(input_text)\n",
        "\n",
        "print(\"\".join(result['text'][0].numpy().decode().split(' ')))\n",
        "print(\"\".join(result['text'][1].numpy().decode().split(' ')))\n",
        "print(\"\".join(result['text'][2].numpy().decode().split(' ')))\n",
        "print(\"\".join(result['text'][3].numpy().decode().split(' ')))\n",
        "print(\"\".join(result['text'][4].numpy().decode().split(' ')))\n",
        "print()\n",
        "\n",
        "a = result['attention'][0]\n",
        "\n",
        "print(np.sum(a, axis=-1))\n",
        "\n",
        "_ = plt.bar(range(len(a[0, :])), a[0, :])\n",
        "\n",
        "plt.imshow(np.array(a), vmin=0.0)"
      ],
      "metadata": {
        "id": "EY3EUQeDAG0V",
        "colab": {
          "base_uri": "https://localhost:8080/",
          "height": 626
        },
        "outputId": "7b97b1e5-6bbb-4188-f869-c2701c72c1c1"
      },
      "execution_count": null,
      "outputs": [
        {
          "output_type": "stream",
          "name": "stdout",
          "text": [
            "tf.Tensor(\n",
            "[b'm o t t o' b'u n t i d y' b'r a b b i t' b'a b e r c r o m b i e'\n",
            " b's u m i n s k i'], shape=(5,), dtype=string)\n",
            "/mˈɒtəʊ/\n",
            "/ʌntˈaɪdi/\n",
            "/ɹˈæbɪt/\n",
            "/ɐbˈɜːkɹi/\n",
            "/sˈuːmɪnski/\n",
            "\n",
            "[1. 1. 1. 1. 1. 1. 1. 1. 1. 1. 1. 1. 1.]\n"
          ]
        },
        {
          "output_type": "execute_result",
          "data": {
            "text/plain": [
              "<matplotlib.image.AxesImage at 0x7f19a90c2410>"
            ]
          },
          "metadata": {},
          "execution_count": 41
        },
        {
          "output_type": "display_data",
          "data": {
            "text/plain": [
              "<Figure size 640x480 with 1 Axes>"
            ],
            "image/png": "[encoded data removed]"
          },
          "metadata": {}
        }
      ]
    },
    {
      "cell_type": "code",
      "source": [
        "def plot_attention(attention, sentence, predicted_sentence):\n",
        "    sentence = tf_lower_and_split_punct(sentence).numpy().decode().split()\n",
        "    predicted_sentence = predicted_sentence.numpy().decode().split() + ['[END]']\n",
        "    fig = plt.figure(figsize=(10, 10))\n",
        "    ax = fig.add_subplot(1, 1, 1)\n",
        "\n",
        "    attention = attention[:len(predicted_sentence), :len(sentence)]\n",
        "\n",
        "    ax.matshow(attention, cmap='viridis', vmin=0.0)\n",
        "\n",
        "    fontdict = {'fontsize': 14}\n",
        "\n",
        "    ax.set_xticklabels([''] + sentence, fontdict=fontdict, rotation=90)\n",
        "    ax.set_yticklabels([''] + predicted_sentence, fontdict=fontdict)\n",
        "\n",
        "    ax.xaxis.set_major_locator(ticker.MultipleLocator(1))\n",
        "    ax.yaxis.set_major_locator(ticker.MultipleLocator(1))\n",
        "\n",
        "    ax.set_xlabel('Input text')\n",
        "    ax.set_ylabel('Output text')\n",
        "    plt.suptitle('Attention weights')\n",
        "\n",
        "\n",
        "i = 0\n",
        "plot_attention(result['attention'][i], input_text[i], result['text'][i])"
      ],
      "metadata": {
        "id": "pf5QGilnAKgJ",
        "colab": {
          "base_uri": "https://localhost:8080/",
          "height": 1000
        },
        "outputId": "93d8e0a3-46bd-4191-abaf-24c935af9a08"
      },
      "execution_count": null,
      "outputs": [
        {
          "output_type": "stream",
          "name": "stderr",
          "text": [
            "<ipython-input-42-1723350e3e9a>:13: UserWarning: FixedFormatter should only be used together with FixedLocator\n",
            "  ax.set_xticklabels([''] + sentence, fontdict=fontdict, rotation=90)\n",
            "<ipython-input-42-1723350e3e9a>:14: UserWarning: FixedFormatter should only be used together with FixedLocator\n",
            "  ax.set_yticklabels([''] + predicted_sentence, fontdict=fontdict)\n"
          ]
        },
        {
          "output_type": "display_data",
          "data": {
            "text/plain": [
              "<Figure size 1000x1000 with 1 Axes>"
            ],
            "image/png": "[encoded data removed]"
          },
          "metadata": {}
        }
      ]
    },
    {
      "cell_type": "code",
      "source": [
        "def add_spaces(str):\n",
        "  return \" \".join(str)\n",
        "\n",
        "three_input_text = tf.constant([\n",
        "    add_spaces('extravagant'),\n",
        "    add_spaces('olive'),\n",
        "    add_spaces('mention'),\n",
        "    add_spaces('trash'),\n",
        "    add_spaces('flamingo'),\n",
        "    add_spaces('fandango'),\n",
        "    add_spaces('luscious'),\n",
        "])\n",
        "\n",
        "result = translator.tf_translate(three_input_text)\n",
        "\n",
        "\n",
        "for tr in result['text']:\n",
        "  print(tr.numpy().decode())\n",
        "\n",
        "print()\n",
        "\n",
        "result['text']\n",
        "\n",
        "i = 0\n",
        "plot_attention(result['attention'][i], three_input_text[i], result['text'][i])\n",
        "\n",
        "i = 1\n",
        "plot_attention(result['attention'][i], three_input_text[i], result['text'][i])\n",
        "\n",
        "i = 2\n",
        "\n",
        "plot_attention(result['attention'][i], three_input_text[i], result['text'][i])"
      ],
      "metadata": {
        "id": "QoqWNEt-ASbo",
        "colab": {
          "base_uri": "https://localhost:8080/",
          "height": 1000
        },
        "outputId": "d3369c17-454b-4fdc-f985-f51b60f4ab86"
      },
      "execution_count": null,
      "outputs": [
        {
          "output_type": "stream",
          "name": "stdout",
          "text": [
            "/ ˌ ɛ k s t ɹ ə v ˈ æ d ʒ ə n t /\n",
            "/ ˈ ə ʊ l a ɪ v /\n",
            "/ m ˈ ɛ n ʃ ə n /\n",
            "/ t ɹ ˈ æ ʃ /\n",
            "/ f l ɐ m ˈ ɪ ŋ ɡ ə ʊ ̯ /\n",
            "/ f æ n d ˈ æ n ɡ ə ʊ /\n",
            "/ l ˈ ʌ ʒ u ː ə s /\n",
            "\n"
          ]
        },
        {
          "output_type": "stream",
          "name": "stderr",
          "text": [
            "<ipython-input-42-1723350e3e9a>:13: UserWarning: FixedFormatter should only be used together with FixedLocator\n",
            "  ax.set_xticklabels([''] + sentence, fontdict=fontdict, rotation=90)\n",
            "<ipython-input-42-1723350e3e9a>:14: UserWarning: FixedFormatter should only be used together with FixedLocator\n",
            "  ax.set_yticklabels([''] + predicted_sentence, fontdict=fontdict)\n"
          ]
        },
        {
          "output_type": "display_data",
          "data": {
            "text/plain": [
              "<Figure size 1000x1000 with 1 Axes>"
            ],
            "image/png": "[encoded data removed]"
          },
          "metadata": {}
        },
        {
          "output_type": "display_data",
          "data": {
            "text/plain": [
              "<Figure size 1000x1000 with 1 Axes>"
            ],
            "image/png": "[encoded data removed]"
          },
          "metadata": {}
        },
        {
          "output_type": "display_data",
          "data": {
            "text/plain": [
              "<Figure size 1000x1000 with 1 Axes>"
            ],
            "image/png": "[encoded data removed]"
          },
          "metadata": {}
        }
      ]
    },
    {
      "cell_type": "code",
      "source": [
        "long_str = 'p n e u m o n o u l t r a m i c r o s c o p i c s i l i c o v o l c a n o c o n i o s i s'\n",
        "long_input_text = tf.constant([long_str])\n",
        "\n",
        "import textwrap\n",
        "\n",
        "print('Expected output:\\n', ''.join(long_str.split(' ')))\n",
        "\n",
        "result = translator.tf_translate(long_input_text)\n",
        "\n",
        "i = 0\n",
        "plot_attention(result['attention'][i], long_input_text[i], result['text'][i])\n",
        "_ = plt.suptitle('This never works')"
      ],
      "metadata": {
        "id": "K1QQ7zVyAXZq",
        "colab": {
          "base_uri": "https://localhost:8080/",
          "height": 933
        },
        "outputId": "a43dc5f1-3760-443c-e699-5b2a21589645"
      },
      "execution_count": null,
      "outputs": [
        {
          "output_type": "stream",
          "name": "stdout",
          "text": [
            "Expected output:\n",
            " pneumonoultramicroscopicsilicovolcanoconiosis\n"
          ]
        },
        {
          "output_type": "stream",
          "name": "stderr",
          "text": [
            "<ipython-input-42-1723350e3e9a>:13: UserWarning: FixedFormatter should only be used together with FixedLocator\n",
            "  ax.set_xticklabels([''] + sentence, fontdict=fontdict, rotation=90)\n",
            "<ipython-input-42-1723350e3e9a>:14: UserWarning: FixedFormatter should only be used together with FixedLocator\n",
            "  ax.set_yticklabels([''] + predicted_sentence, fontdict=fontdict)\n"
          ]
        },
        {
          "output_type": "display_data",
          "data": {
            "text/plain": [
              "<Figure size 1000x1000 with 1 Axes>"
            ],
            "image/png": "[encoded data removed]"
          },
          "metadata": {}
        }
      ]
    },
    {
      "cell_type": "code",
      "source": [
        "tf.compat.v1.saved_model.save(translator, '/content/drive/MyDrive/eng-to-ipa/ipa_translator_v2_1_compat',\n",
        "                    signatures={'serving_default': translator.tf_translate})"
      ],
      "metadata": {
        "id": "3IAHif1tztg6",
        "colab": {
          "base_uri": "https://localhost:8080/"
        },
        "outputId": "94e36e83-0240-4a1a-a215-8c5ea7f2dfd3"
      },
      "execution_count": null,
      "outputs": [
        {
          "output_type": "stream",
          "name": "stderr",
          "text": [
            "WARNING:absl:Found untraced functions such as encoder_5_layer_call_fn, encoder_5_layer_call_and_return_conditional_losses, decoder_5_layer_call_fn, decoder_5_layer_call_and_return_conditional_losses, embedding_10_layer_call_fn while saving (showing 5 of 24). These functions will not be directly callable after loading.\n"
          ]
        }
      ]
    },
    {
      "cell_type": "code",
      "source": [
        "reloaded = tf.saved_model.load('/content/drive/MyDrive/eng-to-ipa/ipa_translator_v2_1_compat')\n",
        "\n",
        "three_input_text = tf.constant([\n",
        "    add_spaces('extravagant'),\n",
        "    add_spaces('olive'),\n",
        "    add_spaces('mention'),\n",
        "    add_spaces('trash'),\n",
        "    add_spaces('flamingo'),\n",
        "    add_spaces('fandango'),\n",
        "    add_spaces('luscious'),\n",
        "    add_spaces('origin'),\n",
        "    add_spaces('phalanx')\n",
        "])\n",
        "\n",
        "result = reloaded.tf_translate(three_input_text)\n",
        "\n",
        "for tr in result['text']:\n",
        "  print(''.join(tr.numpy().decode().split(' ')))\n",
        "\n",
        "print()\n"
      ],
      "metadata": {
        "id": "Z8roxg0dAZlH",
        "colab": {
          "base_uri": "https://localhost:8080/"
        },
        "outputId": "594cfac4-d130-49c8-8179-80202b8d6da3"
      },
      "execution_count": null,
      "outputs": [
        {
          "output_type": "stream",
          "name": "stdout",
          "text": [
            "/ˌɛkstɹəvˈædʒənt/\n",
            "/ˈəʊlaɪv/\n",
            "/mˈɛnʃən/\n",
            "/tɹˈæʃ/\n",
            "/flˈæmɪŋɡˌəʊ/\n",
            "/fændˈeɪnɡəʊ/\n",
            "/lˈʌʃəs/\n",
            "/ˈɒɹɪdʒˌɪn/\n",
            "/fˈæləŋks/\n",
            "\n"
          ]
        }
      ]
    }
  ]
}